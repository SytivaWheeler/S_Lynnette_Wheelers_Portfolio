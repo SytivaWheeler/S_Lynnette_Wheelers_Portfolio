{
 "cells": [
  {
   "cell_type": "markdown",
   "id": "f3c30eea",
   "metadata": {},
   "source": [
    "This shows the amount of confirmed cases over the course of a week in the state NY."
   ]
  },
  {
   "cell_type": "code",
   "execution_count": 11,
   "id": "435ef3bb",
   "metadata": {},
   "outputs": [
    {
     "data": {
      "text/plain": [
       "2021-08-10    2166366\n",
       "2021-08-11    2170516\n",
       "2021-08-12    2175217\n",
       "2021-08-13    2179808\n",
       "2021-08-14    2179808\n",
       "2021-08-15    2188761\n",
       "2021-08-16    2192336\n",
       "dtype: int64"
      ]
     },
     "execution_count": 11,
     "metadata": {},
     "output_type": "execute_result"
    }
   ],
   "source": [
    "import pandas as pd\n",
    "cases = pd.read_csv(\"../../../../data/covid_confirmed_usafacts.csv\")\n",
    "casesdt = pd.DataFrame(cases)\n",
    "\n",
    "casesdt = casesdt[casesdt.State == 'NY']\n",
    "\n",
    "week = casesdt.iloc[:,-7:]\n",
    "week = week.sum(axis=0)\n",
    "week"
   ]
  },
  {
   "cell_type": "markdown",
   "id": "e578d9a5",
   "metadata": {},
   "source": [
    "This shows the amount of confirmed deaths over the course of a week in the state NY."
   ]
  },
  {
   "cell_type": "code",
   "execution_count": 10,
   "id": "920ee39c",
   "metadata": {},
   "outputs": [
    {
     "data": {
      "text/plain": [
       "2021-08-10    53539\n",
       "2021-08-11    53576\n",
       "2021-08-12    53576\n",
       "2021-08-13    53622\n",
       "2021-08-14    53622\n",
       "2021-08-15    53622\n",
       "2021-08-16    53664\n",
       "dtype: int64"
      ]
     },
     "execution_count": 10,
     "metadata": {},
     "output_type": "execute_result"
    }
   ],
   "source": [
    "deaths = pd.read_csv(\"../../../../data/covid_deaths_usafacts.csv\")\n",
    "deathsdt = pd.DataFrame(deaths)\n",
    "\n",
    "deathsdt = deathsdt[deathsdt.State=='NY']\n",
    "\n",
    "d_week = deathsdt.iloc[:,-7:]\n",
    "d_week = d_week.sum(axis=0)\n",
    "d_week"
   ]
  },
  {
   "cell_type": "code",
   "execution_count": null,
   "id": "ef4f5c1c",
   "metadata": {},
   "outputs": [],
   "source": []
  }
 ],
 "metadata": {
  "kernelspec": {
   "display_name": "Python 3",
   "language": "python",
   "name": "python3"
  },
  "language_info": {
   "codemirror_mode": {
    "name": "ipython",
    "version": 3
   },
   "file_extension": ".py",
   "mimetype": "text/x-python",
   "name": "python",
   "nbconvert_exporter": "python",
   "pygments_lexer": "ipython3",
   "version": "3.8.8"
  }
 },
 "nbformat": 4,
 "nbformat_minor": 5
}
