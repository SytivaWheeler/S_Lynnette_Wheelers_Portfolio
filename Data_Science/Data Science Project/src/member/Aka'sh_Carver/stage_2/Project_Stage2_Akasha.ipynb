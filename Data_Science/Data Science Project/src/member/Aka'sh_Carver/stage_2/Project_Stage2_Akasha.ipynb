{
  "nbformat": 4,
  "nbformat_minor": 0,
  "metadata": {
    "colab": {
      "name": "Project_Stage2_Akasha.ipynb",
      "provenance": []
    },
    "kernelspec": {
      "name": "python3",
      "display_name": "Python 3"
    },
    "language_info": {
      "name": "python"
    }
  },
  "cells": [
    {
      "cell_type": "code",
      "metadata": {
        "colab": {
          "base_uri": "https://localhost:8080/"
        },
        "id": "2s2rgubXw2Ww",
        "outputId": "41bd21d1-da6a-464c-edd1-8d8f3e480833"
      },
      "source": [
        "!pip install plotly"
      ],
      "execution_count": null,
      "outputs": [
        {
          "output_type": "stream",
          "name": "stdout",
          "text": [
            "Requirement already satisfied: plotly in /usr/local/lib/python3.7/dist-packages (4.4.1)\n",
            "Requirement already satisfied: six in /usr/local/lib/python3.7/dist-packages (from plotly) (1.15.0)\n",
            "Requirement already satisfied: retrying>=1.3.3 in /usr/local/lib/python3.7/dist-packages (from plotly) (1.3.3)\n"
          ]
        }
      ]
    },
    {
      "cell_type": "code",
      "metadata": {
        "colab": {
          "base_uri": "https://localhost:8080/"
        },
        "id": "FbKiJG0qQVDq",
        "outputId": "3a57995a-a48a-4cc6-d600-d21f6bf50653"
      },
      "source": [
        "from google.colab import drive\n",
        "drive.mount('/content/drive')"
      ],
      "execution_count": null,
      "outputs": [
        {
          "output_type": "stream",
          "name": "stdout",
          "text": [
            "Drive already mounted at /content/drive; to attempt to forcibly remount, call drive.mount(\"/content/drive\", force_remount=True).\n"
          ]
        }
      ]
    },
    {
      "cell_type": "code",
      "metadata": {
        "id": "mVOki2kEQeWD"
      },
      "source": [
        "import pandas as pd\n",
        "#import numpy as np\n",
        "#from datetime import datetime\n",
        "#import plotly.express as px"
      ],
      "execution_count": null,
      "outputs": []
    },
    {
      "cell_type": "code",
      "metadata": {
        "id": "xNWE2RH62I1W"
      },
      "source": [
        "#Deaths = pd.read_csv(\"drive/Shareddrives/Datasets/covid_deaths.csv\")\n",
        "#Cases = pd.read_csv(\"drive/Shareddrives/Datasets/covid_confirmed.csv\")\n",
        "#Population = pd.read_csv(\"drive/Shareddrives/Datasets/covid_county_population.csv\")\n",
        "Deaths = pd.read_csv(\"data/covid_deaths.csv\")\n",
        "Cases = pd.read_csv(\"data/covid_confirmed.csv\")\n",
        "Population = pd.read_csv(\"data/covid_county_population.csv\")"
      ],
      "execution_count": null,
      "outputs": []
    },
    {
      "cell_type": "markdown",
      "metadata": {
        "id": "wdFsQ0kK3VQ7"
      },
      "source": [
        "Preparing for safe merge. Merge County and Population. Cases dataset is converted to long format and merged with the Death_Population_long dataset. Read in Superset_Long csv result."
      ]
    },
    {
      "cell_type": "code",
      "metadata": {
        "id": "bce8142a"
      },
      "source": [
        "Deaths = Deaths[Deaths['County Name'] != 'Statewide Unallocated']\n",
        "Cases = Cases[Cases['County Name'] != 'Statewide Unallocated']\n",
        "Population = Population[Population['County Name'] != 'Statewide Unallocated']\n",
        "Population = Population.drop(columns = ['County Name'])"
      ],
      "execution_count": null,
      "outputs": []
    },
    {
      "cell_type": "code",
      "metadata": {
        "id": "q0k_gRgQ4PbX"
      },
      "source": [
        "Death_Population = pd.merge(Deaths, Population, on = ['countyFIPS', 'State'])\n",
        "Death_Population_long = pd.melt(Death_Population,id_vars=['countyFIPS','State','County Name','StateFIPS','population'],\n",
        "             var_name='Date', value_name='Deaths')"
      ],
      "execution_count": null,
      "outputs": []
    },
    {
      "cell_type": "code",
      "metadata": {
        "id": "VoTyZyTV4qYA"
      },
      "source": [
        "Cases_long = pd.melt(Cases,id_vars=['countyFIPS','State','County Name','StateFIPS'], var_name='Date', value_name='Cases')\n",
        "merge_dcp_long = pd.merge(Death_Population_long,Cases_long, on=['countyFIPS','State','County Name','StateFIPS', 'Date'])"
      ],
      "execution_count": null,
      "outputs": []
    },
    {
      "cell_type": "code",
      "metadata": {
        "id": "Ff9bNhPZ4yg_"
      },
      "source": [
        "Superset_Long = pd.read_csv(\"drive/Shareddrives/Datasets/superset_long.csv\")"
      ],
      "execution_count": null,
      "outputs": []
    },
    {
      "cell_type": "markdown",
      "metadata": {
        "id": "ct-342v0Rq4u"
      },
      "source": [
        "Reading superset long data set for usage (Refer to Global_Comparison.ipynb for details on its creation.) Converting Date column to Date datatype and fill the NaN with zero '0'. The data is stored in new DataFrame 'updated'."
      ]
    },
    {
      "cell_type": "code",
      "metadata": {
        "id": "7QZYOV2Kzw6J"
      },
      "source": [
        "merge_dcp_long = pd.merge(Death_Population_long,Cases_long, on=['countyFIPS','State','County Name','StateFIPS', 'Date'])"
      ],
      "execution_count": null,
      "outputs": []
    },
    {
      "cell_type": "code",
      "metadata": {
        "id": "8KaFx27RQnVL"
      },
      "source": [
        "date = pd.DataFrame(pd.to_datetime(merge_dcp_long['Date']))\n",
        "no_date = pd.DataFrame(merge_dcp_long.drop(columns=['Date']))\n",
        "updated = pd.concat([date.reset_index(drop=True),no_date.reset_index(drop=True)], axis=1).fillna(0)\n",
        "updated = updated.sort_values(by=['State', 'Date'])"
      ],
      "execution_count": null,
      "outputs": []
    },
    {
      "cell_type": "code",
      "metadata": {
        "id": "yHyLiPin5a0d"
      },
      "source": [
        "updated['New_Cases_Per_Day'] = updated.groupby('State').Cases.diff()\n",
        "updated['New_Deaths_Per_Day'] = updated.groupby('State').Deaths.diff()"
      ],
      "execution_count": null,
      "outputs": []
    },
    {
      "cell_type": "code",
      "metadata": {
        "id": "97d849f3",
        "colab": {
          "base_uri": "https://localhost:8080/"
        },
        "outputId": "9808fc22-a4d5-46ed-aa2e-215fac01376c"
      },
      "source": [
        "weeklyData = updated.groupby([pd.Grouper(key='Date', freq='1w'),'State'])['New_Cases_Per_Day','New_Deaths_Per_Day'].agg({'New_Cases_Per_Day':'mean',\n",
        "                                                                                                'New_Deaths_Per_Day' :'mean'}).reset_index().round(decimals=0)"
      ],
      "execution_count": null,
      "outputs": [
        {
          "output_type": "stream",
          "name": "stderr",
          "text": [
            "/usr/local/lib/python3.7/dist-packages/ipykernel_launcher.py:1: FutureWarning: Indexing with multiple keys (implicitly converted to a tuple of keys) will be deprecated, use a list instead.\n",
            "  \"\"\"Entry point for launching an IPython kernel.\n"
          ]
        }
      ]
    },
    {
      "cell_type": "markdown",
      "metadata": {
        "id": "c4pqpuoC6Zfm"
      },
      "source": [
        "##Statistical data for new cases, deaths, and population in Pennslyvania, per day."
      ]
    },
    {
      "cell_type": "code",
      "metadata": {
        "colab": {
          "base_uri": "https://localhost:8080/"
        },
        "id": "UL8vbCvE6YBv",
        "outputId": "21b3ab8d-fc6b-4da1-9d35-ab6ba79b9b2f"
      },
      "source": [
        "weeklyDataPA = weeklyData.loc[weeklyData['State'] == 'PA']\n",
        "\n",
        "Philadelphia_weeklyCases_mean = weeklyDataPA['New_Cases_Per_Day'].mean()\n",
        "Philadelphia_weeklyCases_median = weeklyDataPA['New_Cases_Per_Day'].median()\n",
        "Philadelphia_weeklyCases_mode = weeklyDataPA['New_Cases_Per_Day'].mode()\n",
        "\n",
        "print('Weekly Cases Mean: ', Philadelphia_weeklyCases_mean)\n",
        "print('Weekly Cases Median: ', Philadelphia_weeklyCases_median)\n",
        "print('Weekly Cases Mode: ', Philadelphia_weeklyCases_mode)"
      ],
      "execution_count": null,
      "outputs": [
        {
          "output_type": "stream",
          "name": "stdout",
          "text": [
            "Weekly Cases Mean:  1.1927710843373494\n",
            "Weekly Cases Median:  1.0\n",
            "Weekly Cases Mode:  0    0.0\n",
            "dtype: float64\n"
          ]
        }
      ]
    },
    {
      "cell_type": "code",
      "metadata": {
        "id": "07b406e5",
        "colab": {
          "base_uri": "https://localhost:8080/"
        },
        "outputId": "a6c8e598-7ba7-4d34-a635-7296ad714ebf"
      },
      "source": [
        "Philadelphia_weeklyDeaths_mean = weeklyDataPA['New_Deaths_Per_Day'].mean()\n",
        "Philadelphia_weeklyDeaths_median = weeklyDataPA['New_Deaths_Per_Day'].median()\n",
        "Philadelphia_weeklyDeaths_mode = weeklyDataPA['New_Deaths_Per_Day'].mode()\n",
        "\n",
        "print('Weekly Deaths Mean: ', Philadelphia_weeklyDeaths_mean)\n",
        "print('Weekly Deaths Median: ', Philadelphia_weeklyDeaths_median)\n",
        "print('Weekly Deaths Mode: ', Philadelphia_weeklyDeaths_mode)"
      ],
      "execution_count": null,
      "outputs": [
        {
          "output_type": "stream",
          "name": "stdout",
          "text": [
            "Weekly Deaths Mean:  0.0\n",
            "Weekly Deaths Median:  0.0\n",
            "Weekly Deaths Mode:  0    0.0\n",
            "dtype: float64\n"
          ]
        }
      ]
    },
    {
      "cell_type": "markdown",
      "metadata": {
        "id": "upFf06deAQ2E"
      },
      "source": [
        "##Comparing Pennslyvania to North Carolina"
      ]
    },
    {
      "cell_type": "code",
      "metadata": {
        "colab": {
          "base_uri": "https://localhost:8080/"
        },
        "id": "1TPSpMuZAXtj",
        "outputId": "a8a46df7-6bbe-4679-e189-2133693114f3"
      },
      "source": [
        "weeklyDataNC = weeklyData.loc[weeklyData['State'] == 'NC']\n",
        "\n",
        "NCarolina_weeklyCases_mean = weeklyDataNC['New_Cases_Per_Day'].mean()\n",
        "NCarolina_weeklyCases_median = weeklyDataNC['New_Cases_Per_Day'].median()\n",
        "NCarolina_weeklyCases_mode = weeklyDataNC['New_Cases_Per_Day'].mode()\n",
        "\n",
        "print('Weekly Cases Mean: ', NCarolina_weeklyCases_mean)\n",
        "print('Weekly Cases Median: ', NCarolina_weeklyCases_median)\n",
        "print('Weekly Cases Mode: ', NCarolina_weeklyCases_mode)"
      ],
      "execution_count": null,
      "outputs": [
        {
          "output_type": "stream",
          "name": "stdout",
          "text": [
            "Weekly Cases Mean:  0.012048192771084338\n",
            "Weekly Cases Median:  0.0\n",
            "Weekly Cases Mode:  0    0.0\n",
            "dtype: float64\n"
          ]
        }
      ]
    },
    {
      "cell_type": "code",
      "metadata": {
        "colab": {
          "base_uri": "https://localhost:8080/"
        },
        "id": "qGH7VzO8Af9E",
        "outputId": "b2f757ea-e566-416c-affa-f52d8869c360"
      },
      "source": [
        "NCarolina_weeklyDeaths_mean = weeklyDataNC['New_Deaths_Per_Day'].mean()\n",
        "NCarolina_weeklyDeaths_median = weeklyDataNC['New_Deaths_Per_Day'].median()\n",
        "NCarolina_weeklyDeaths_mode = weeklyDataNC['New_Deaths_Per_Day'].mode()\n",
        "\n",
        "print('Weekly Deaths Mean: ', NCarolina_weeklyDeaths_mean)\n",
        "print('Weekly Deaths Median: ', NCarolina_weeklyDeaths_median)\n",
        "print('Weekly Deaths Mode: ', NCarolina_weeklyDeaths_mode)"
      ],
      "execution_count": null,
      "outputs": [
        {
          "output_type": "stream",
          "name": "stdout",
          "text": [
            "Weekly Deaths Mean:  0.0\n",
            "Weekly Deaths Median:  0.0\n",
            "Weekly Deaths Mode:  0    0.0\n",
            "dtype: float64\n"
          ]
        }
      ]
    }
  ]
}