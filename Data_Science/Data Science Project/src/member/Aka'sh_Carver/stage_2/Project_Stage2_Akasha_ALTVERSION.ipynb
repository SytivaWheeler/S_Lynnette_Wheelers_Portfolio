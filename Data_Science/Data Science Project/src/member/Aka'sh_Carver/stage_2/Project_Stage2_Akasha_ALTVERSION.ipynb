{
  "nbformat": 4,
  "nbformat_minor": 0,
  "metadata": {
    "colab": {
      "name": "Project_Stage2_Akasha_ALTVERSION.ipynb",
      "provenance": [],
      "collapsed_sections": []
    },
    "kernelspec": {
      "name": "python3",
      "display_name": "Python 3"
    },
    "language_info": {
      "name": "python"
    }
  },
  "cells": [
    {
      "cell_type": "code",
      "metadata": {
        "colab": {
          "base_uri": "https://localhost:8080/"
        },
        "id": "FbKiJG0qQVDq",
        "outputId": "24643877-1f5a-4489-d2b2-f72204cac7ac"
      },
      "source": [
        "from google.colab import drive\n",
        "drive.mount('/content/drive')"
      ],
      "execution_count": 71,
      "outputs": [
        {
          "output_type": "stream",
          "name": "stdout",
          "text": [
            "Drive already mounted at /content/drive; to attempt to forcibly remount, call drive.mount(\"/content/drive\", force_remount=True).\n"
          ]
        }
      ]
    },
    {
      "cell_type": "code",
      "metadata": {
        "id": "Ff9bNhPZ4yg_",
        "colab": {
          "base_uri": "https://localhost:8080/",
          "height": 419
        },
        "outputId": "ce0431c8-4943-41f7-fd37-119b23d7809b"
      },
      "source": [
        "import pandas as pd\n",
        "\n",
        "### Use this github directory path version for submission.\n",
        "### superset_df_long = pd.read_csv(\"data/stage_2/superset_long.csv\")\n",
        "superset_df = pd.read_csv(\"drive/Shareddrives/Datasets/superset_long.csv\")\n",
        "superset_df"
      ],
      "execution_count": 72,
      "outputs": [
        {
          "output_type": "execute_result",
          "data": {
            "text/html": [
              "<div>\n",
              "<style scoped>\n",
              "    .dataframe tbody tr th:only-of-type {\n",
              "        vertical-align: middle;\n",
              "    }\n",
              "\n",
              "    .dataframe tbody tr th {\n",
              "        vertical-align: top;\n",
              "    }\n",
              "\n",
              "    .dataframe thead th {\n",
              "        text-align: right;\n",
              "    }\n",
              "</style>\n",
              "<table border=\"1\" class=\"dataframe\">\n",
              "  <thead>\n",
              "    <tr style=\"text-align: right;\">\n",
              "      <th></th>\n",
              "      <th>countyFIPS</th>\n",
              "      <th>State</th>\n",
              "      <th>County Name</th>\n",
              "      <th>StateFIPS</th>\n",
              "      <th>population</th>\n",
              "      <th>Date</th>\n",
              "      <th>Deaths</th>\n",
              "      <th>Cases</th>\n",
              "    </tr>\n",
              "  </thead>\n",
              "  <tbody>\n",
              "    <tr>\n",
              "      <th>0</th>\n",
              "      <td>1001</td>\n",
              "      <td>AL</td>\n",
              "      <td>Autauga County</td>\n",
              "      <td>1</td>\n",
              "      <td>55869</td>\n",
              "      <td>2020-01-22</td>\n",
              "      <td>0</td>\n",
              "      <td>0</td>\n",
              "    </tr>\n",
              "    <tr>\n",
              "      <th>1</th>\n",
              "      <td>1003</td>\n",
              "      <td>AL</td>\n",
              "      <td>Baldwin County</td>\n",
              "      <td>1</td>\n",
              "      <td>223234</td>\n",
              "      <td>2020-01-22</td>\n",
              "      <td>0</td>\n",
              "      <td>0</td>\n",
              "    </tr>\n",
              "    <tr>\n",
              "      <th>2</th>\n",
              "      <td>1005</td>\n",
              "      <td>AL</td>\n",
              "      <td>Barbour County</td>\n",
              "      <td>1</td>\n",
              "      <td>24686</td>\n",
              "      <td>2020-01-22</td>\n",
              "      <td>0</td>\n",
              "      <td>0</td>\n",
              "    </tr>\n",
              "    <tr>\n",
              "      <th>3</th>\n",
              "      <td>1007</td>\n",
              "      <td>AL</td>\n",
              "      <td>Bibb County</td>\n",
              "      <td>1</td>\n",
              "      <td>22394</td>\n",
              "      <td>2020-01-22</td>\n",
              "      <td>0</td>\n",
              "      <td>0</td>\n",
              "    </tr>\n",
              "    <tr>\n",
              "      <th>4</th>\n",
              "      <td>1009</td>\n",
              "      <td>AL</td>\n",
              "      <td>Blount County</td>\n",
              "      <td>1</td>\n",
              "      <td>57826</td>\n",
              "      <td>2020-01-22</td>\n",
              "      <td>0</td>\n",
              "      <td>0</td>\n",
              "    </tr>\n",
              "    <tr>\n",
              "      <th>...</th>\n",
              "      <td>...</td>\n",
              "      <td>...</td>\n",
              "      <td>...</td>\n",
              "      <td>...</td>\n",
              "      <td>...</td>\n",
              "      <td>...</td>\n",
              "      <td>...</td>\n",
              "      <td>...</td>\n",
              "    </tr>\n",
              "    <tr>\n",
              "      <th>1800361</th>\n",
              "      <td>56037</td>\n",
              "      <td>WY</td>\n",
              "      <td>Sweetwater County</td>\n",
              "      <td>56</td>\n",
              "      <td>42343</td>\n",
              "      <td>2021-08-16</td>\n",
              "      <td>45</td>\n",
              "      <td>5127</td>\n",
              "    </tr>\n",
              "    <tr>\n",
              "      <th>1800362</th>\n",
              "      <td>56039</td>\n",
              "      <td>WY</td>\n",
              "      <td>Teton County</td>\n",
              "      <td>56</td>\n",
              "      <td>23464</td>\n",
              "      <td>2021-08-16</td>\n",
              "      <td>11</td>\n",
              "      <td>4068</td>\n",
              "    </tr>\n",
              "    <tr>\n",
              "      <th>1800363</th>\n",
              "      <td>56041</td>\n",
              "      <td>WY</td>\n",
              "      <td>Uinta County</td>\n",
              "      <td>56</td>\n",
              "      <td>20226</td>\n",
              "      <td>2021-08-16</td>\n",
              "      <td>14</td>\n",
              "      <td>2593</td>\n",
              "    </tr>\n",
              "    <tr>\n",
              "      <th>1800364</th>\n",
              "      <td>56043</td>\n",
              "      <td>WY</td>\n",
              "      <td>Washakie County</td>\n",
              "      <td>56</td>\n",
              "      <td>7805</td>\n",
              "      <td>2021-08-16</td>\n",
              "      <td>26</td>\n",
              "      <td>967</td>\n",
              "    </tr>\n",
              "    <tr>\n",
              "      <th>1800365</th>\n",
              "      <td>56045</td>\n",
              "      <td>WY</td>\n",
              "      <td>Weston County</td>\n",
              "      <td>56</td>\n",
              "      <td>6927</td>\n",
              "      <td>2021-08-16</td>\n",
              "      <td>6</td>\n",
              "      <td>705</td>\n",
              "    </tr>\n",
              "  </tbody>\n",
              "</table>\n",
              "<p>1800366 rows × 8 columns</p>\n",
              "</div>"
            ],
            "text/plain": [
              "         countyFIPS State         County Name  ...        Date  Deaths Cases\n",
              "0              1001    AL     Autauga County   ...  2020-01-22       0     0\n",
              "1              1003    AL     Baldwin County   ...  2020-01-22       0     0\n",
              "2              1005    AL     Barbour County   ...  2020-01-22       0     0\n",
              "3              1007    AL        Bibb County   ...  2020-01-22       0     0\n",
              "4              1009    AL      Blount County   ...  2020-01-22       0     0\n",
              "...             ...   ...                 ...  ...         ...     ...   ...\n",
              "1800361       56037    WY  Sweetwater County   ...  2021-08-16      45  5127\n",
              "1800362       56039    WY       Teton County   ...  2021-08-16      11  4068\n",
              "1800363       56041    WY       Uinta County   ...  2021-08-16      14  2593\n",
              "1800364       56043    WY    Washakie County   ...  2021-08-16      26   967\n",
              "1800365       56045    WY      Weston County   ...  2021-08-16       6   705\n",
              "\n",
              "[1800366 rows x 8 columns]"
            ]
          },
          "metadata": {},
          "execution_count": 72
        }
      ]
    },
    {
      "cell_type": "markdown",
      "metadata": {
        "id": "13h3psCH8TZ3"
      },
      "source": [
        "## Generate Weekly Statistics for a number of new cases and deaths across a State"
      ]
    },
    {
      "cell_type": "markdown",
      "metadata": {
        "id": "zdJIlw1Y4mgB"
      },
      "source": [
        "Adding datetime to the dataframe to perform time series data operations, and finding data for the state of Pennslyvania"
      ]
    },
    {
      "cell_type": "code",
      "metadata": {
        "colab": {
          "base_uri": "https://localhost:8080/",
          "height": 419
        },
        "id": "b3IXqYR43wmB",
        "outputId": "b6abb9fc-fea3-4d1c-b790-801dc44bd697"
      },
      "source": [
        "datetime_df = pd.DataFrame(pd.to_datetime(superset_df['Date'])) # Converting Date to datetime and putting it into a dataframe.\n",
        "superset_undated = pd.DataFrame(superset_df.drop(columns=['Date'])) # Removing Date column from the superset dataframe.\n",
        "superset_datetime = pd.concat([datetime_df.reset_index(drop=True), superset_undated.reset_index(drop=True)], axis=1).fillna(0) # Merge.\n",
        "superset_sorted = superset_datetime.sort_values(by=['countyFIPS', 'Date']) # Sorting by countyFIPS so that Date has daily ordering. \n",
        "\n",
        "### This returns negative values. It should NOT. Something errorous is afoot.\n",
        "superset_sorted['New_cases_per_day'] = superset_sorted.groupby('countyFIPS').Cases.diff() # Daily differences set new a new column.\n",
        "superset_sorted['New_deaths_per_day'] = superset_sorted.groupby('countyFIPS').Deaths.diff()\n",
        "superset_sorted['New_cases_per_day'] = np.where(superset_sorted['New_cases_per_day'] < 0, 0, superset_sorted['New_cases_per_day']) # Setting the negative values to zero. \n",
        "superset_sorted['New_deaths_per_day'] = np.where(superset_sorted['New_deaths_per_day'] < 0, 0, superset_sorted['New_deaths_per_day'])\n",
        "\n",
        "PA_df = superset_sorted[superset_sorted['State'] == 'PA']\n",
        "PA_df = PA_df.dropna()\n",
        "PA_df"
      ],
      "execution_count": 83,
      "outputs": [
        {
          "output_type": "execute_result",
          "data": {
            "text/html": [
              "<div>\n",
              "<style scoped>\n",
              "    .dataframe tbody tr th:only-of-type {\n",
              "        vertical-align: middle;\n",
              "    }\n",
              "\n",
              "    .dataframe tbody tr th {\n",
              "        vertical-align: top;\n",
              "    }\n",
              "\n",
              "    .dataframe thead th {\n",
              "        text-align: right;\n",
              "    }\n",
              "</style>\n",
              "<table border=\"1\" class=\"dataframe\">\n",
              "  <thead>\n",
              "    <tr style=\"text-align: right;\">\n",
              "      <th></th>\n",
              "      <th>Date</th>\n",
              "      <th>countyFIPS</th>\n",
              "      <th>State</th>\n",
              "      <th>County Name</th>\n",
              "      <th>StateFIPS</th>\n",
              "      <th>population</th>\n",
              "      <th>Deaths</th>\n",
              "      <th>Cases</th>\n",
              "      <th>New_cases_per_day</th>\n",
              "      <th>New_deaths_per_day</th>\n",
              "    </tr>\n",
              "  </thead>\n",
              "  <tbody>\n",
              "    <tr>\n",
              "      <th>5386</th>\n",
              "      <td>2020-01-23</td>\n",
              "      <td>42001</td>\n",
              "      <td>PA</td>\n",
              "      <td>Adams County</td>\n",
              "      <td>42</td>\n",
              "      <td>103009</td>\n",
              "      <td>0</td>\n",
              "      <td>0</td>\n",
              "      <td>0.0</td>\n",
              "      <td>0.0</td>\n",
              "    </tr>\n",
              "    <tr>\n",
              "      <th>8528</th>\n",
              "      <td>2020-01-24</td>\n",
              "      <td>42001</td>\n",
              "      <td>PA</td>\n",
              "      <td>Adams County</td>\n",
              "      <td>42</td>\n",
              "      <td>103009</td>\n",
              "      <td>0</td>\n",
              "      <td>0</td>\n",
              "      <td>0.0</td>\n",
              "      <td>0.0</td>\n",
              "    </tr>\n",
              "    <tr>\n",
              "      <th>11670</th>\n",
              "      <td>2020-01-25</td>\n",
              "      <td>42001</td>\n",
              "      <td>PA</td>\n",
              "      <td>Adams County</td>\n",
              "      <td>42</td>\n",
              "      <td>103009</td>\n",
              "      <td>0</td>\n",
              "      <td>0</td>\n",
              "      <td>0.0</td>\n",
              "      <td>0.0</td>\n",
              "    </tr>\n",
              "    <tr>\n",
              "      <th>14812</th>\n",
              "      <td>2020-01-26</td>\n",
              "      <td>42001</td>\n",
              "      <td>PA</td>\n",
              "      <td>Adams County</td>\n",
              "      <td>42</td>\n",
              "      <td>103009</td>\n",
              "      <td>0</td>\n",
              "      <td>0</td>\n",
              "      <td>0.0</td>\n",
              "      <td>0.0</td>\n",
              "    </tr>\n",
              "    <tr>\n",
              "      <th>17954</th>\n",
              "      <td>2020-01-27</td>\n",
              "      <td>42001</td>\n",
              "      <td>PA</td>\n",
              "      <td>Adams County</td>\n",
              "      <td>42</td>\n",
              "      <td>103009</td>\n",
              "      <td>0</td>\n",
              "      <td>0</td>\n",
              "      <td>0.0</td>\n",
              "      <td>0.0</td>\n",
              "    </tr>\n",
              "    <tr>\n",
              "      <th>...</th>\n",
              "      <td>...</td>\n",
              "      <td>...</td>\n",
              "      <td>...</td>\n",
              "      <td>...</td>\n",
              "      <td>...</td>\n",
              "      <td>...</td>\n",
              "      <td>...</td>\n",
              "      <td>...</td>\n",
              "      <td>...</td>\n",
              "      <td>...</td>\n",
              "    </tr>\n",
              "    <tr>\n",
              "      <th>1786966</th>\n",
              "      <td>2021-08-12</td>\n",
              "      <td>42133</td>\n",
              "      <td>PA</td>\n",
              "      <td>York County</td>\n",
              "      <td>42</td>\n",
              "      <td>449058</td>\n",
              "      <td>840</td>\n",
              "      <td>48177</td>\n",
              "      <td>98.0</td>\n",
              "      <td>0.0</td>\n",
              "    </tr>\n",
              "    <tr>\n",
              "      <th>1790108</th>\n",
              "      <td>2021-08-13</td>\n",
              "      <td>42133</td>\n",
              "      <td>PA</td>\n",
              "      <td>York County</td>\n",
              "      <td>42</td>\n",
              "      <td>449058</td>\n",
              "      <td>840</td>\n",
              "      <td>48267</td>\n",
              "      <td>90.0</td>\n",
              "      <td>0.0</td>\n",
              "    </tr>\n",
              "    <tr>\n",
              "      <th>1793250</th>\n",
              "      <td>2021-08-14</td>\n",
              "      <td>42133</td>\n",
              "      <td>PA</td>\n",
              "      <td>York County</td>\n",
              "      <td>42</td>\n",
              "      <td>449058</td>\n",
              "      <td>840</td>\n",
              "      <td>48373</td>\n",
              "      <td>106.0</td>\n",
              "      <td>0.0</td>\n",
              "    </tr>\n",
              "    <tr>\n",
              "      <th>1796392</th>\n",
              "      <td>2021-08-15</td>\n",
              "      <td>42133</td>\n",
              "      <td>PA</td>\n",
              "      <td>York County</td>\n",
              "      <td>42</td>\n",
              "      <td>449058</td>\n",
              "      <td>840</td>\n",
              "      <td>48492</td>\n",
              "      <td>119.0</td>\n",
              "      <td>0.0</td>\n",
              "    </tr>\n",
              "    <tr>\n",
              "      <th>1799534</th>\n",
              "      <td>2021-08-16</td>\n",
              "      <td>42133</td>\n",
              "      <td>PA</td>\n",
              "      <td>York County</td>\n",
              "      <td>42</td>\n",
              "      <td>449058</td>\n",
              "      <td>840</td>\n",
              "      <td>48557</td>\n",
              "      <td>65.0</td>\n",
              "      <td>0.0</td>\n",
              "    </tr>\n",
              "  </tbody>\n",
              "</table>\n",
              "<p>38324 rows × 10 columns</p>\n",
              "</div>"
            ],
            "text/plain": [
              "              Date  countyFIPS  ... New_cases_per_day New_deaths_per_day\n",
              "5386    2020-01-23       42001  ...               0.0                0.0\n",
              "8528    2020-01-24       42001  ...               0.0                0.0\n",
              "11670   2020-01-25       42001  ...               0.0                0.0\n",
              "14812   2020-01-26       42001  ...               0.0                0.0\n",
              "17954   2020-01-27       42001  ...               0.0                0.0\n",
              "...            ...         ...  ...               ...                ...\n",
              "1786966 2021-08-12       42133  ...              98.0                0.0\n",
              "1790108 2021-08-13       42133  ...              90.0                0.0\n",
              "1793250 2021-08-14       42133  ...             106.0                0.0\n",
              "1796392 2021-08-15       42133  ...             119.0                0.0\n",
              "1799534 2021-08-16       42133  ...              65.0                0.0\n",
              "\n",
              "[38324 rows x 10 columns]"
            ]
          },
          "metadata": {},
          "execution_count": 83
        }
      ]
    },
    {
      "cell_type": "markdown",
      "metadata": {
        "id": "ct-342v0Rq4u"
      },
      "source": [
        "Aggregate daily data to get the statistics for the entire week."
      ]
    },
    {
      "cell_type": "code",
      "metadata": {
        "id": "7QZYOV2Kzw6J",
        "colab": {
          "base_uri": "https://localhost:8080/",
          "height": 521
        },
        "outputId": "23877415-d589-453a-b86b-df8bb1186273"
      },
      "source": [
        "PA_weekly = PA_df.groupby([pd.Grouper(key='Date', freq='w'),'County Name'])['New_cases_per_day','New_deaths_per_day'].agg({'New_cases_per_day':'mean', 'New_deaths_per_day':'mean'}).reset_index().round(decimals=0)\n",
        "\n",
        "week_cases_mean = weekly_PA['New_cases_per_day'].mean()\n",
        "week_cases_median = weekly_PA['New_cases_per_day'].median()\n",
        "week_cases_mode = weekly_PA['New_cases_per_day'].mode()\n",
        "print(week_cases_mean,week_cases_median,week_cases_mode)\n",
        "week_deaths_mean = weekly_PA['New_deaths_per_day'].mean()\n",
        "week_deaths_median = weekly_PA['New_deaths_per_day'].median()\n",
        "week_deaths_mode = weekly_PA['New_deaths_per_day'].mode()\n",
        "print(week_deaths_mean,week_deaths_median,week_deaths_mode)\n",
        "\n",
        "PA_weekly"
      ],
      "execution_count": 87,
      "outputs": [
        {
          "output_type": "stream",
          "name": "stdout",
          "text": [
            "32.37385362344902 6.0 0    0.0\n",
            "dtype: float64\n",
            "0.6752382664988311 0.0 0    0.0\n",
            "dtype: float64\n"
          ]
        },
        {
          "output_type": "stream",
          "name": "stderr",
          "text": [
            "/usr/local/lib/python3.7/dist-packages/ipykernel_launcher.py:1: FutureWarning: Indexing with multiple keys (implicitly converted to a tuple of keys) will be deprecated, use a list instead.\n",
            "  \"\"\"Entry point for launching an IPython kernel.\n"
          ]
        },
        {
          "output_type": "execute_result",
          "data": {
            "text/html": [
              "<div>\n",
              "<style scoped>\n",
              "    .dataframe tbody tr th:only-of-type {\n",
              "        vertical-align: middle;\n",
              "    }\n",
              "\n",
              "    .dataframe tbody tr th {\n",
              "        vertical-align: top;\n",
              "    }\n",
              "\n",
              "    .dataframe thead th {\n",
              "        text-align: right;\n",
              "    }\n",
              "</style>\n",
              "<table border=\"1\" class=\"dataframe\">\n",
              "  <thead>\n",
              "    <tr style=\"text-align: right;\">\n",
              "      <th></th>\n",
              "      <th>Date</th>\n",
              "      <th>County Name</th>\n",
              "      <th>New_cases_per_day</th>\n",
              "      <th>New_deaths_per_day</th>\n",
              "    </tr>\n",
              "  </thead>\n",
              "  <tbody>\n",
              "    <tr>\n",
              "      <th>0</th>\n",
              "      <td>2020-01-26</td>\n",
              "      <td>Adams County</td>\n",
              "      <td>0.0</td>\n",
              "      <td>0.0</td>\n",
              "    </tr>\n",
              "    <tr>\n",
              "      <th>1</th>\n",
              "      <td>2020-01-26</td>\n",
              "      <td>Allegheny County</td>\n",
              "      <td>0.0</td>\n",
              "      <td>0.0</td>\n",
              "    </tr>\n",
              "    <tr>\n",
              "      <th>2</th>\n",
              "      <td>2020-01-26</td>\n",
              "      <td>Armstrong County</td>\n",
              "      <td>0.0</td>\n",
              "      <td>0.0</td>\n",
              "    </tr>\n",
              "    <tr>\n",
              "      <th>3</th>\n",
              "      <td>2020-01-26</td>\n",
              "      <td>Beaver County</td>\n",
              "      <td>0.0</td>\n",
              "      <td>0.0</td>\n",
              "    </tr>\n",
              "    <tr>\n",
              "      <th>4</th>\n",
              "      <td>2020-01-26</td>\n",
              "      <td>Bedford County</td>\n",
              "      <td>0.0</td>\n",
              "      <td>0.0</td>\n",
              "    </tr>\n",
              "    <tr>\n",
              "      <th>...</th>\n",
              "      <td>...</td>\n",
              "      <td>...</td>\n",
              "      <td>...</td>\n",
              "      <td>...</td>\n",
              "    </tr>\n",
              "    <tr>\n",
              "      <th>5556</th>\n",
              "      <td>2021-08-22</td>\n",
              "      <td>Washington County</td>\n",
              "      <td>13.0</td>\n",
              "      <td>0.0</td>\n",
              "    </tr>\n",
              "    <tr>\n",
              "      <th>5557</th>\n",
              "      <td>2021-08-22</td>\n",
              "      <td>Wayne County</td>\n",
              "      <td>3.0</td>\n",
              "      <td>0.0</td>\n",
              "    </tr>\n",
              "    <tr>\n",
              "      <th>5558</th>\n",
              "      <td>2021-08-22</td>\n",
              "      <td>Westmoreland County</td>\n",
              "      <td>43.0</td>\n",
              "      <td>0.0</td>\n",
              "    </tr>\n",
              "    <tr>\n",
              "      <th>5559</th>\n",
              "      <td>2021-08-22</td>\n",
              "      <td>Wyoming County</td>\n",
              "      <td>5.0</td>\n",
              "      <td>0.0</td>\n",
              "    </tr>\n",
              "    <tr>\n",
              "      <th>5560</th>\n",
              "      <td>2021-08-22</td>\n",
              "      <td>York County</td>\n",
              "      <td>65.0</td>\n",
              "      <td>0.0</td>\n",
              "    </tr>\n",
              "  </tbody>\n",
              "</table>\n",
              "<p>5561 rows × 4 columns</p>\n",
              "</div>"
            ],
            "text/plain": [
              "           Date           County Name  New_cases_per_day  New_deaths_per_day\n",
              "0    2020-01-26         Adams County                 0.0                 0.0\n",
              "1    2020-01-26     Allegheny County                 0.0                 0.0\n",
              "2    2020-01-26     Armstrong County                 0.0                 0.0\n",
              "3    2020-01-26        Beaver County                 0.0                 0.0\n",
              "4    2020-01-26       Bedford County                 0.0                 0.0\n",
              "...         ...                   ...                ...                 ...\n",
              "5556 2021-08-22    Washington County                13.0                 0.0\n",
              "5557 2021-08-22         Wayne County                 3.0                 0.0\n",
              "5558 2021-08-22  Westmoreland County                43.0                 0.0\n",
              "5559 2021-08-22       Wyoming County                 5.0                 0.0\n",
              "5560 2021-08-22          York County                65.0                 0.0\n",
              "\n",
              "[5561 rows x 4 columns]"
            ]
          },
          "metadata": {},
          "execution_count": 87
        }
      ]
    },
    {
      "cell_type": "markdown",
      "metadata": {
        "id": "4DkhiMIGEi64"
      },
      "source": [
        "## Compare the data against other states. (normalize by population)"
      ]
    },
    {
      "cell_type": "markdown",
      "metadata": {
        "id": "BGC0M8QfFeDW"
      },
      "source": [
        "Take a subset of the superset including the states Pennslyvania, Indiana, North Carolina, Iowa, Mississippi, Maine, and Nevada."
      ]
    },
    {
      "cell_type": "code",
      "metadata": {
        "id": "QiCo8UjaEm_0"
      },
      "source": [
        "#### Use the below line for github dirs\n",
        "#### superset_df_long = pd.read_csv(\"data/stage_2/superset_long.csv\")\n",
        "superset = pd.read_csv(\"drive/Shareddrives/Datasets/superset_long.csv\")\n",
        "superset['Date'] = pd.to_datetime(superset['Date'])\n",
        "superset_sorted = superset.sort_values(by=['countyFIPS', 'Date'])\n",
        "\n",
        "\n",
        "\n",
        "# Making columns valued the difference of last cases/death value for a County\n",
        "##superset_sorted['New_cases_per_day'] = superset_sorted.groupby('County Name').Cases.diff()\n",
        "##superset_sorted['New_deaths_per_day'] = superset_sorted.groupby('County Name').Deaths.diff()\n",
        "\n",
        "##superset_sorted.loc[superset_sorted['New_cases_per_day'] < 0]\n",
        "\n",
        "# NOMINALIZATION\n",
        "##superset_nomin = superset_prenomin.dropna()\n",
        "##superset_nomin['Normalized_new_cases_per_day'] = ((superset_nomin['New_cases_per_day'] - 0) / (superset_nomin['population'] - 1)) * 100000\n",
        "##superset_nomin['Normalized_new_deaths_per_day'] = ((superset_nomin['New_deaths_per_day'] - 0)/ (superset_nomin['population'] - 1)) * 100000\n",
        "\n",
        "\n",
        "##superset_prenomin.loc[superset_prenomin['New_cases_per_day'] < 0]\n",
        "#minvalue = superset_nomin['Normalized_new_cases_per_day'].min()\n",
        "#minvalue = superset_prenomin['New_cases_per_day'].min()\n",
        "#minvalue"
      ],
      "execution_count": 77,
      "outputs": []
    },
    {
      "cell_type": "code",
      "metadata": {
        "colab": {
          "base_uri": "https://localhost:8080/",
          "height": 408
        },
        "id": "-7eJAickFpeT",
        "outputId": "ea2431a1-6a1c-4ec9-ec36-89982539d8db"
      },
      "source": [
        "IN_df = superset_nomin[superset_nomin['State'] == 'IN']\n",
        "\n",
        "# Making dataframe of Date, County Name, and Normalized data (average weekly new case/death count)\n",
        "weekly_IN = IN_df.groupby([pd.Grouper(key='Date', freq='w'),'County Name'])['New_cases_per_day','New_deaths_per_day'].agg({'New_cases_per_day':'mean', 'New_deaths_per_day':'mean'}).reset_index().round(decimals=0)\n",
        "weekly_IN"
      ],
      "execution_count": 78,
      "outputs": [
        {
          "output_type": "stream",
          "name": "stderr",
          "text": [
            "/usr/local/lib/python3.7/dist-packages/ipykernel_launcher.py:4: FutureWarning: Indexing with multiple keys (implicitly converted to a tuple of keys) will be deprecated, use a list instead.\n",
            "  after removing the cwd from sys.path.\n"
          ]
        },
        {
          "output_type": "error",
          "ename": "KeyError",
          "evalue": "ignored",
          "traceback": [
            "\u001b[0;31m---------------------------------------------------------------------------\u001b[0m",
            "\u001b[0;31mKeyError\u001b[0m                                  Traceback (most recent call last)",
            "\u001b[0;32m<ipython-input-78-8287b20738df>\u001b[0m in \u001b[0;36m<module>\u001b[0;34m()\u001b[0m\n\u001b[1;32m      2\u001b[0m \u001b[0;34m\u001b[0m\u001b[0m\n\u001b[1;32m      3\u001b[0m \u001b[0;31m# Making dataframe of Date, County Name, and Normalized data (average weekly new case/death count)\u001b[0m\u001b[0;34m\u001b[0m\u001b[0;34m\u001b[0m\u001b[0;34m\u001b[0m\u001b[0m\n\u001b[0;32m----> 4\u001b[0;31m \u001b[0mweekly_IN\u001b[0m \u001b[0;34m=\u001b[0m \u001b[0mIN_df\u001b[0m\u001b[0;34m.\u001b[0m\u001b[0mgroupby\u001b[0m\u001b[0;34m(\u001b[0m\u001b[0;34m[\u001b[0m\u001b[0mpd\u001b[0m\u001b[0;34m.\u001b[0m\u001b[0mGrouper\u001b[0m\u001b[0;34m(\u001b[0m\u001b[0mkey\u001b[0m\u001b[0;34m=\u001b[0m\u001b[0;34m'Date'\u001b[0m\u001b[0;34m,\u001b[0m \u001b[0mfreq\u001b[0m\u001b[0;34m=\u001b[0m\u001b[0;34m'w'\u001b[0m\u001b[0;34m)\u001b[0m\u001b[0;34m,\u001b[0m\u001b[0;34m'County Name'\u001b[0m\u001b[0;34m]\u001b[0m\u001b[0;34m)\u001b[0m\u001b[0;34m[\u001b[0m\u001b[0;34m'New_cases_per_day'\u001b[0m\u001b[0;34m,\u001b[0m\u001b[0;34m'New_deaths_per_day'\u001b[0m\u001b[0;34m]\u001b[0m\u001b[0;34m.\u001b[0m\u001b[0magg\u001b[0m\u001b[0;34m(\u001b[0m\u001b[0;34m{\u001b[0m\u001b[0;34m'New_cases_per_day'\u001b[0m\u001b[0;34m:\u001b[0m\u001b[0;34m'mean'\u001b[0m\u001b[0;34m,\u001b[0m \u001b[0;34m'New_deaths_per_day'\u001b[0m\u001b[0;34m:\u001b[0m\u001b[0;34m'mean'\u001b[0m\u001b[0;34m}\u001b[0m\u001b[0;34m)\u001b[0m\u001b[0;34m.\u001b[0m\u001b[0mreset_index\u001b[0m\u001b[0;34m(\u001b[0m\u001b[0;34m)\u001b[0m\u001b[0;34m.\u001b[0m\u001b[0mround\u001b[0m\u001b[0;34m(\u001b[0m\u001b[0mdecimals\u001b[0m\u001b[0;34m=\u001b[0m\u001b[0;36m0\u001b[0m\u001b[0;34m)\u001b[0m\u001b[0;34m\u001b[0m\u001b[0;34m\u001b[0m\u001b[0m\n\u001b[0m\u001b[1;32m      5\u001b[0m \u001b[0mweekly_IN\u001b[0m\u001b[0;34m\u001b[0m\u001b[0;34m\u001b[0m\u001b[0m\n",
            "\u001b[0;32m/usr/local/lib/python3.7/dist-packages/pandas/core/groupby/generic.py\u001b[0m in \u001b[0;36m__getitem__\u001b[0;34m(self, key)\u001b[0m\n\u001b[1;32m   1608\u001b[0m                 \u001b[0mstacklevel\u001b[0m\u001b[0;34m=\u001b[0m\u001b[0;36m2\u001b[0m\u001b[0;34m,\u001b[0m\u001b[0;34m\u001b[0m\u001b[0;34m\u001b[0m\u001b[0m\n\u001b[1;32m   1609\u001b[0m             )\n\u001b[0;32m-> 1610\u001b[0;31m         \u001b[0;32mreturn\u001b[0m \u001b[0msuper\u001b[0m\u001b[0;34m(\u001b[0m\u001b[0;34m)\u001b[0m\u001b[0;34m.\u001b[0m\u001b[0m__getitem__\u001b[0m\u001b[0;34m(\u001b[0m\u001b[0mkey\u001b[0m\u001b[0;34m)\u001b[0m\u001b[0;34m\u001b[0m\u001b[0;34m\u001b[0m\u001b[0m\n\u001b[0m\u001b[1;32m   1611\u001b[0m \u001b[0;34m\u001b[0m\u001b[0m\n\u001b[1;32m   1612\u001b[0m     \u001b[0;32mdef\u001b[0m \u001b[0m_gotitem\u001b[0m\u001b[0;34m(\u001b[0m\u001b[0mself\u001b[0m\u001b[0;34m,\u001b[0m \u001b[0mkey\u001b[0m\u001b[0;34m,\u001b[0m \u001b[0mndim\u001b[0m\u001b[0;34m:\u001b[0m \u001b[0mint\u001b[0m\u001b[0;34m,\u001b[0m \u001b[0msubset\u001b[0m\u001b[0;34m=\u001b[0m\u001b[0;32mNone\u001b[0m\u001b[0;34m)\u001b[0m\u001b[0;34m:\u001b[0m\u001b[0;34m\u001b[0m\u001b[0;34m\u001b[0m\u001b[0m\n",
            "\u001b[0;32m/usr/local/lib/python3.7/dist-packages/pandas/core/base.py\u001b[0m in \u001b[0;36m__getitem__\u001b[0;34m(self, key)\u001b[0m\n\u001b[1;32m    216\u001b[0m             \u001b[0;32mif\u001b[0m \u001b[0mlen\u001b[0m\u001b[0;34m(\u001b[0m\u001b[0mself\u001b[0m\u001b[0;34m.\u001b[0m\u001b[0mobj\u001b[0m\u001b[0;34m.\u001b[0m\u001b[0mcolumns\u001b[0m\u001b[0;34m.\u001b[0m\u001b[0mintersection\u001b[0m\u001b[0;34m(\u001b[0m\u001b[0mkey\u001b[0m\u001b[0;34m)\u001b[0m\u001b[0;34m)\u001b[0m \u001b[0;34m!=\u001b[0m \u001b[0mlen\u001b[0m\u001b[0;34m(\u001b[0m\u001b[0mkey\u001b[0m\u001b[0;34m)\u001b[0m\u001b[0;34m:\u001b[0m\u001b[0;34m\u001b[0m\u001b[0;34m\u001b[0m\u001b[0m\n\u001b[1;32m    217\u001b[0m                 \u001b[0mbad_keys\u001b[0m \u001b[0;34m=\u001b[0m \u001b[0mlist\u001b[0m\u001b[0;34m(\u001b[0m\u001b[0mset\u001b[0m\u001b[0;34m(\u001b[0m\u001b[0mkey\u001b[0m\u001b[0;34m)\u001b[0m\u001b[0;34m.\u001b[0m\u001b[0mdifference\u001b[0m\u001b[0;34m(\u001b[0m\u001b[0mself\u001b[0m\u001b[0;34m.\u001b[0m\u001b[0mobj\u001b[0m\u001b[0;34m.\u001b[0m\u001b[0mcolumns\u001b[0m\u001b[0;34m)\u001b[0m\u001b[0;34m)\u001b[0m\u001b[0;34m\u001b[0m\u001b[0;34m\u001b[0m\u001b[0m\n\u001b[0;32m--> 218\u001b[0;31m                 \u001b[0;32mraise\u001b[0m \u001b[0mKeyError\u001b[0m\u001b[0;34m(\u001b[0m\u001b[0;34mf\"Columns not found: {str(bad_keys)[1:-1]}\"\u001b[0m\u001b[0;34m)\u001b[0m\u001b[0;34m\u001b[0m\u001b[0;34m\u001b[0m\u001b[0m\n\u001b[0m\u001b[1;32m    219\u001b[0m             \u001b[0;32mreturn\u001b[0m \u001b[0mself\u001b[0m\u001b[0;34m.\u001b[0m\u001b[0m_gotitem\u001b[0m\u001b[0;34m(\u001b[0m\u001b[0mlist\u001b[0m\u001b[0;34m(\u001b[0m\u001b[0mkey\u001b[0m\u001b[0;34m)\u001b[0m\u001b[0;34m,\u001b[0m \u001b[0mndim\u001b[0m\u001b[0;34m=\u001b[0m\u001b[0;36m2\u001b[0m\u001b[0;34m)\u001b[0m\u001b[0;34m\u001b[0m\u001b[0;34m\u001b[0m\u001b[0m\n\u001b[1;32m    220\u001b[0m \u001b[0;34m\u001b[0m\u001b[0m\n",
            "\u001b[0;31mKeyError\u001b[0m: \"Columns not found: 'New_deaths_per_day', 'New_cases_per_day'\""
          ]
        }
      ]
    },
    {
      "cell_type": "markdown",
      "metadata": {
        "id": "1X9tiDUJrYvw"
      },
      "source": [
        "Fill column with weekly data based on the nominalized daily values for deaths and cases.\n",
        "Making a dataframe to base the plotting on. "
      ]
    },
    {
      "cell_type": "code",
      "metadata": {
        "id": "4gyMYNrFrPlk"
      },
      "source": [
        "subset_weekly = superset_df_long_nomin.groupby([pd.Grouper(key='Date', freq='w'),'County Name','StateFIPS'])['Normalized_new_cases_per_day','Normalized_new_deaths_per_day'].agg({'Normalized_new_cases_per_day':'mean','Normalized_new_deaths_per_day' :'mean'}).reset_index().round(decimals=0)\n",
        "state_weekly = pd.DataFrame(columns = ('Date', 'State', 'Mean_Nomalized_new_cases_week', 'Mean_Nomalized_new_deaths_week', 'Median_Nomalized_new_cases_week', 'Median_Nomalized_new_deaths_week','Mode_Nomalized_new_cases_week', 'Mode_Nomalized_new_deaths_week'))\n",
        "subset_weekly"
      ],
      "execution_count": null,
      "outputs": []
    },
    {
      "cell_type": "code",
      "metadata": {
        "id": "b52o5kw_u4mo"
      },
      "source": [
        "#subset_weekly = pd.DataFrame(pd.to_datetime(subset_weekly['Date']))\n",
        "#subset_weekly = pd.DataFrame(subset_weekly.drop(columns=['Date']))\n",
        "\n",
        "for i in subset_weekly['StateFIPS'].unique():\n",
        "    mean_cases = subset_weekly[subset_weekly['StateFIPS'] == i]['Normalized_new_cases_per_day'].mean()\n",
        "    mean_deaths = subset_weekly[subset_weekly['StateFIPS'] == i]['Normalized_new_deaths_per_day'].mean()\n",
        "    median_cases = subset_weekly[subset_weekly['StateFIPS'] == i]['Normalized_new_cases_per_day'].median()\n",
        "    median_deaths = subset_weekly[subset_weekly['StateFIPS'] == i]['Normalized_new_deaths_per_day'].median()\n",
        "    mode_cases = subset_weekly[subset_weekly['StateFIPS'] == i]['Normalized_new_cases_per_day'].mode()\n",
        "    mode_deaths = subset_weekly[subset_weekly['StateFIPS'] == i]['Normalized_new_deaths_per_day'].mode()\n",
        "    Data = { 'StateFIPS': i, 'Mean_Nomalized_new_cases_week': mean_cases, 'Mean_Nomalized_new_deaths_week': mean_deaths, 'Median_Nomalized_new_cases_week': median_cases, 'Median_Nomalized_new_deaths_week': median_deaths, 'Mode_Nomalized_new_cases_week': mode_cases, 'Mode_Nomalized_new_deaths_week': mode_deaths}\n",
        "    state_weekly = state_weekly.append(Data,ignore_index=True)\n",
        "\n",
        "state_weekly"
      ],
      "execution_count": null,
      "outputs": []
    },
    {
      "cell_type": "code",
      "metadata": {
        "id": "HyUaK3jsvXLM"
      },
      "source": [
        "state_weekly['Mode_Nomalized_new_cases_week'] = state_weekly['Mode_Nomalized_new_cases_week'].astype(str)\n",
        "state_weekly['Mode_Nomalized_new_deaths_week'] = state_weekly['Mode_Nomalized_new_deaths_week'].astype(str)\n",
        "state_weekly['Mode_Nomalized_new_cases_week'] = state_weekly['Mode_Nomalized_new_cases_week'].str[:4]\n",
        "state_weekly['Mode_Nomalized_new_deaths_week'] = state_weekly['Mode_Nomalized_new_deaths_week'].str[:4]\n",
        "state_weekly"
      ],
      "execution_count": null,
      "outputs": []
    },
    {
      "cell_type": "code",
      "metadata": {
        "id": "yws4Vo4Pvt7e"
      },
      "source": [
        "\n",
        "#statesData = pd.concat([statesdates.reset_index(drop=True),statesData.reset_index(drop=True)], axis=1).fillna(0)\n",
        "\n",
        "#state_weekly.plot(x = 'StateFIPS', y=['Mean_Nomalized_new_cases_week','Median_Nomalized_new_cases_week','Mode_Nomalized_new_cases_week'], kind='bar',figsize=(12,12))\n",
        "#px.show(\"png\")\n",
        "#state_weekly = px.data.tips()\n",
        "#statedata = px.parallel_categories(state_weekly, color=\"size\", color_continuous_scale=px.colors.sequential.Inferno)\n",
        "#statedata.show()\n",
        "state_weekly.REF\n",
        "plt.hist([state_weekly['Mean_Nominalized_new_cases_per_week'].values, state_weekly['REF'].values], stacked=True)"
      ],
      "execution_count": null,
      "outputs": []
    },
    {
      "cell_type": "code",
      "metadata": {
        "id": "1TPSpMuZAXtj"
      },
      "source": [
        "weeklyDataNC = weeklyData.loc[weeklyData['State'] == 'NC']\n",
        "\n",
        "NCarolina_weeklyCases_mean = weeklyDataNC['New_Cases_Per_Day'].mean()\n",
        "NCarolina_weeklyCases_median = weeklyDataNC['New_Cases_Per_Day'].median()\n",
        "NCarolina_weeklyCases_mode = weeklyDataNC['New_Cases_Per_Day'].mode()\n",
        "\n",
        "print('Weekly Cases Mean: ', NCarolina_weeklyCases_mean)\n",
        "print('Weekly Cases Median: ', NCarolina_weeklyCases_median)\n",
        "print('Weekly Cases Mode: ', NCarolina_weeklyCases_mode)"
      ],
      "execution_count": null,
      "outputs": []
    },
    {
      "cell_type": "code",
      "metadata": {
        "id": "qGH7VzO8Af9E"
      },
      "source": [
        "NCarolina_weeklyDeaths_mean = weeklyDataNC['New_Deaths_Per_Day'].mean()\n",
        "NCarolina_weeklyDeaths_median = weeklyDataNC['New_Deaths_Per_Day'].median()\n",
        "NCarolina_weeklyDeaths_mode = weeklyDataNC['New_Deaths_Per_Day'].mode()\n",
        "\n",
        "print('Weekly Deaths Mean: ', NCarolina_weeklyDeaths_mean)\n",
        "print('Weekly Deaths Median: ', NCarolina_weeklyDeaths_median)\n",
        "print('Weekly Deaths Mode: ', NCarolina_weeklyDeaths_mode)"
      ],
      "execution_count": null,
      "outputs": []
    }
  ]
}